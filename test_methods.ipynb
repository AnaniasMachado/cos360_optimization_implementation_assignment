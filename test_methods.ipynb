{
 "cells": [
  {
   "cell_type": "code",
   "execution_count": null,
   "metadata": {},
   "outputs": [],
   "source": [
    "import numpy as np\n",
    "\n",
    "from algorithms import Gradiente, Newton_1D, Newton_ND, BFGS"
   ]
  },
  {
   "cell_type": "code",
   "execution_count": null,
   "metadata": {},
   "outputs": [],
   "source": [
    "l = [[1, 2], [3, 4]]\n",
    "\n",
    "l = np.array(l)\n",
    "\n",
    "print(type(l))\n",
    "print(type(l[0]))\n",
    "print(l[1,0])"
   ]
  },
  {
   "cell_type": "code",
   "execution_count": null,
   "metadata": {},
   "outputs": [],
   "source": [
    "def f_1D(x):\n",
    "    return x[0]*x[0] + 6*x[0] + 5\n",
    "\n",
    "def df_1D(x):\n",
    "    return np.array([2*x[0] + 6])\n",
    "\n",
    "def Hf_1D(x):\n",
    "    return np.array([2])"
   ]
  },
  {
   "cell_type": "code",
   "execution_count": null,
   "metadata": {},
   "outputs": [],
   "source": [
    "x0 = np.array([12])\n",
    "xf = Newton_1D(f_1D, df_1D, Hf_1D, x0, 11500)\n",
    "\n",
    "print(xf)"
   ]
  },
  {
   "cell_type": "code",
   "execution_count": null,
   "metadata": {},
   "outputs": [],
   "source": [
    "def f_2D(x):\n",
    "    return x[0]*x[0] + 6*x[0] + 5 + x[1]*x[1] + 6*x[1]\n",
    "\n",
    "def df_2D(x):\n",
    "    return np.array([2*x[0] + 6, 2*x[1] + 6])\n",
    "\n",
    "def Hf_2D(x):\n",
    "    return np.array([[2, 0], [0, 2]])"
   ]
  },
  {
   "cell_type": "code",
   "execution_count": null,
   "metadata": {},
   "outputs": [],
   "source": [
    "a = np.array([[]])\n",
    "b = np.array([2, 1])\n",
    "\n",
    "# a = np.append(a, [[2, 5]], axis=1)\n",
    "# a = np.append(a, [b], axis=0)\n",
    "# print(a)\n",
    "\n",
    "a = np.concatenate((a, [[2, 1]]), axis=1)\n",
    "a = np.concatenate((a, [[2, 1]]), axis=0)\n",
    "print(a)"
   ]
  },
  {
   "cell_type": "code",
   "execution_count": null,
   "metadata": {},
   "outputs": [],
   "source": [
    "a = np.array([[1, 2], [2, 1]])\n",
    "b = np.array([[2, 3]])\n",
    "\n",
    "c = np.concatenate((a, b), axis=0)\n",
    "print(c)"
   ]
  },
  {
   "cell_type": "code",
   "execution_count": null,
   "metadata": {},
   "outputs": [],
   "source": [
    "a = np.array([[np.nan, 2], [5, 8]])\n",
    "b = np.array([1, np.nan, 3])\n",
    "\n",
    "print(a)\n",
    "print(np.all(np.isfinite(a)))\n",
    "\n",
    "print(b)\n",
    "print(np.all(np.isfinite(b)))"
   ]
  },
  {
   "cell_type": "code",
   "execution_count": null,
   "metadata": {},
   "outputs": [],
   "source": [
    "x0 = 12\n",
    "x1 = 8\n",
    "\n",
    "x = np.array([x0, x1])\n",
    "\n",
    "xf = Gradiente(f_2D, df_2D, x, 11000)\n",
    "\n",
    "print(xf)\n",
    "\n",
    "xf = Newton_ND(f_2D, df_2D, Hf_2D, x, 11000)\n",
    "\n",
    "print(xf)\n",
    "\n",
    "dimensions = 2\n",
    "\n",
    "xf = BFGS(f_2D, df_2D, x, dimensions, 11000)\n",
    "\n",
    "print(xf)"
   ]
  }
 ],
 "metadata": {
  "kernelspec": {
   "display_name": "work_env_kernel",
   "language": "python",
   "name": "work_env_kernel"
  },
  "language_info": {
   "codemirror_mode": {
    "name": "ipython",
    "version": 3
   },
   "file_extension": ".py",
   "mimetype": "text/x-python",
   "name": "python",
   "nbconvert_exporter": "python",
   "pygments_lexer": "ipython3",
   "version": "3.12.0"
  }
 },
 "nbformat": 4,
 "nbformat_minor": 2
}
