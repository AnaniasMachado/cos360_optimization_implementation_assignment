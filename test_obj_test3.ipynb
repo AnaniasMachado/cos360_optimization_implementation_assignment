{
 "cells": [
  {
   "cell_type": "code",
   "execution_count": 9,
   "metadata": {},
   "outputs": [],
   "source": [
    "import random\n",
    "import numpy as np\n",
    "\n",
    "from algorithms import Gradiente, Newton_1D, Newton_ND, BFGS\n",
    "\n",
    "from obj_test_util3 import f, gradient_f, hessian_f\n",
    "from objective_function_util import f as obj_fn"
   ]
  },
  {
   "cell_type": "code",
   "execution_count": 10,
   "metadata": {},
   "outputs": [],
   "source": [
    "def prod(sample):\n",
    "    out = 1\n",
    "    for i in range(0, 5):\n",
    "        out = out * sample[i] * (1 - sample[i])\n",
    "    return out\n",
    "\n",
    "def gen_sample():\n",
    "    sample = []\n",
    "    for i in range(0, 5):\n",
    "        sample.append(random.uniform(0, 1))\n",
    "    while prod(sample) < 0:\n",
    "        sample = []\n",
    "        for i in range(0, 5):\n",
    "            sample.append(random.uniform(0, 1))\n",
    "    return sample"
   ]
  },
  {
   "cell_type": "code",
   "execution_count": 11,
   "metadata": {},
   "outputs": [
    {
     "name": "stdout",
     "output_type": "stream",
     "text": [
      "[[0.005289713590717282, 0.6539392394820442, 0.09013656667944903, 0.384749166322914, 0.9166973975623443], [0.7354231959293692, 0.6802548039404966, 0.8594646311424649, 0.42944788437534054, 0.5686226298698073], [0.061936008597879066, 0.9395866196194674, 0.20348722225059224, 0.017913578463483293, 0.8851348248630103], [0.8289382772030963, 0.7638255820312797, 0.8089602043444323, 0.8340738586940017, 0.2714008688867715], [0.10048924211248822, 0.6963408183837947, 0.390235609239038, 0.19637977929262895, 0.615489410129534]]\n"
     ]
    }
   ],
   "source": [
    "samples = []\n",
    "\n",
    "for i in range(0, 5):\n",
    "    samples.append(gen_sample())\n",
    "\n",
    "print(samples)"
   ]
  },
  {
   "cell_type": "code",
   "execution_count": 12,
   "metadata": {},
   "outputs": [
    {
     "name": "stdout",
     "output_type": "stream",
     "text": [
      "Test for sample 0\n",
      "Calling gradient\n",
      "Armijo calls:100\n",
      "[-0.02981357  0.65337465  0.09419271  0.38515337  0.91228621]\n",
      "Gradient result: nan\n",
      "Calling newton\n",
      "[1.60126351e-04 9.63156644e-01 3.27545338e-03 5.64774447e-02\n",
      " 9.97022955e-01]\n",
      "Newton result: 1.7127910906661122e-06\n",
      "Calling BFGS\n",
      "Else.\n",
      "Matrix Hf is singular.\n",
      "[ 3.19366217  0.67320972 -2.06601743  0.39102628 -0.14948013]\n",
      "BFGS result: nan\n",
      "Test for sample 1\n",
      "Calling gradient\n",
      "Armijo calls:100\n",
      "[0.75834513 0.69563788 1.07223228 0.42418764 0.57373278]\n",
      "Gradient result: nan\n",
      "Calling newton\n",
      "[1.16335883 1.07625923 1.18614865 0.23600303 0.75718188]\n",
      "Newton result: nan\n",
      "Calling BFGS\n",
      "Else.\n",
      "Matrix Hf is singular.\n",
      "[0.83955751 0.73217329 0.91447108 0.41708423 0.58058736]\n",
      "BFGS result: 0.011059012491860618\n",
      "Test for sample 2\n",
      "Calling gradient\n",
      "Armijo calls:100\n",
      "[0.06071123 0.94084527 0.20319287 0.01276563 0.88574556]\n",
      "Gradient result: 0.000809544977407279\n",
      "Calling newton\n",
      "[0.00476475 0.99536406 0.02133486 0.00128807 0.99026754]\n",
      "Newton result: 2.3800377972264287e-06\n",
      "Calling BFGS\n",
      "Elif.\n",
      "Matrix p or q is singular.\n",
      "[0.06186437 0.9396602  0.20346985 0.01765179 0.8851708 ]\n",
      "BFGS result: 0.0009695234990836333\n",
      "Test for sample 3\n",
      "Calling gradient\n",
      "Armijo calls:100\n",
      "[0.87006114 0.78772906 0.84312993 0.87740618 0.25284983]\n",
      "Gradient result: 0.007127870679895684\n",
      "Calling newton\n",
      "[0.99525867 0.99146835 0.99428883 0.9954864  0.0116185 ]\n",
      "Newton result: 3.4198733062122135e-06\n",
      "Calling BFGS\n"
     ]
    },
    {
     "name": "stderr",
     "output_type": "stream",
     "text": [
      "/var/home/pc-146/Documents/UFRJ/8° Período/Otimização/Trabalhos/Trabalho Prático/cos360_optimization_implementation_assignment/objective_function_util.py:7: RuntimeWarning: invalid value encountered in sqrt\n",
      "  return np.sqrt(np.log(prod + 1))\n"
     ]
    },
    {
     "name": "stdout",
     "output_type": "stream",
     "text": [
      "Else.\n",
      "Matrix Hf is singular.\n",
      "[0.83142678 0.76538905 0.81110171 0.83666459 0.27016611]\n",
      "BFGS result: 0.010193076128198541\n",
      "Test for sample 4\n",
      "Calling gradient\n",
      "Armijo calls:100\n",
      "[-0.06254122  0.70338513  0.38675922  0.18137418  0.61916802]\n",
      "Gradient result: nan\n",
      "Calling newton\n",
      "[-0.01274678  0.88113903  0.26221828  0.01652724  0.74879777]\n",
      "Newton result: nan\n",
      "Calling BFGS\n",
      "Else.\n",
      "Matrix Hf is singular.\n",
      "[-0.0647972   0.78001328  0.35021116 -0.00886842  0.65789704]\n",
      "BFGS result: 0.002329212062060926\n"
     ]
    }
   ],
   "source": [
    "k = 100\n",
    "\n",
    "for i in range(0, 5):\n",
    "    print(f\"Test for sample {i}\")\n",
    "\n",
    "    # x = np.array([0.5, 3, 8, 6, 7])\n",
    "    x = samples[i]\n",
    "\n",
    "    print(\"Calling gradient\")\n",
    "    xf = Gradiente(f, gradient_f, x, k)\n",
    "\n",
    "    print(xf)\n",
    "    print(f\"Gradient result: {f(xf)}\")\n",
    "\n",
    "    print(\"Calling newton\")\n",
    "    xf = Newton_ND(f, gradient_f, hessian_f, x, k)\n",
    "\n",
    "    print(xf)\n",
    "    print(f\"Newton result: {f(xf)}\")\n",
    "\n",
    "    dimensions = 5\n",
    "\n",
    "    print(\"Calling BFGS\")\n",
    "    xf = BFGS(f, gradient_f, x, dimensions, k)\n",
    "\n",
    "    print(xf)\n",
    "    print(f\"BFGS result: {f(xf)}\")"
   ]
  }
 ],
 "metadata": {
  "kernelspec": {
   "display_name": "work_env_kernel",
   "language": "python",
   "name": "work_env_kernel"
  },
  "language_info": {
   "codemirror_mode": {
    "name": "ipython",
    "version": 3
   },
   "file_extension": ".py",
   "mimetype": "text/x-python",
   "name": "python",
   "nbconvert_exporter": "python",
   "pygments_lexer": "ipython3",
   "version": "3.12.0"
  }
 },
 "nbformat": 4,
 "nbformat_minor": 2
}
