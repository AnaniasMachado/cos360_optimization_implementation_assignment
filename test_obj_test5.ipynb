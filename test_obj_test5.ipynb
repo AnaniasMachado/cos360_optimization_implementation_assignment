{
 "cells": [
  {
   "cell_type": "code",
   "execution_count": 1,
   "metadata": {},
   "outputs": [],
   "source": [
    "import random\n",
    "import numpy as np\n",
    "\n",
    "from algorithms import Gradiente, Newton_1D, Newton_ND, BFGS\n",
    "\n",
    "from obj_test_util5 import l, gradient_l, hessian_l"
   ]
  },
  {
   "cell_type": "code",
   "execution_count": 2,
   "metadata": {},
   "outputs": [],
   "source": [
    "def prod(sample):\n",
    "    out = 1\n",
    "    for i in range(0, 5):\n",
    "        out = out * sample[i] * (1 - sample[i])\n",
    "    return out\n",
    "\n",
    "def gen_sample():\n",
    "    sample = []\n",
    "    for i in range(0, 5):\n",
    "        sample.append(random.uniform(0, 1))\n",
    "    while prod(sample) < 0:\n",
    "        sample = []\n",
    "        for i in range(0, 5):\n",
    "            sample.append(random.uniform(0, 1))\n",
    "    return sample"
   ]
  },
  {
   "cell_type": "code",
   "execution_count": 3,
   "metadata": {},
   "outputs": [
    {
     "name": "stdout",
     "output_type": "stream",
     "text": [
      "[[0.6893715691555151, 0.4074444126269239, 0.709072103084768, 0.5413882501298432, 0.061196511721083646], [0.10300949807703919, 0.892595837657775, 0.21827949981359962, 0.4375235157981323, 0.6944924078212453], [0.2717729723662978, 0.25445747167879285, 0.6112075564287425, 0.7707588209242283, 0.9002244297767696], [0.08805240420872706, 0.24068386791548202, 0.1443195239121855, 0.7310103668863412, 0.768547323813664], [0.9982885070249431, 0.3116850107186979, 0.6812012055813463, 0.1097371505564938, 0.2953642018401814]]\n"
     ]
    }
   ],
   "source": [
    "samples = []\n",
    "\n",
    "for i in range(0, 5):\n",
    "    samples.append(gen_sample())\n",
    "\n",
    "print(samples)"
   ]
  },
  {
   "cell_type": "code",
   "execution_count": 4,
   "metadata": {},
   "outputs": [
    {
     "name": "stdout",
     "output_type": "stream",
     "text": [
      "Test for sample 0\n",
      "Calling gradient\n",
      "Armijo calls:400\n",
      "[0.68937157 0.40744441 0.7090721  0.54138825 0.06119651]\n",
      "Gradient result: 7.606066863351008e-05\n",
      "Calling newton\n",
      "[-1.11082903  1.06256669 -1.25888087  0.01462927  3.22050015]\n",
      "Newton result: 0.022341142743515514\n",
      "Calling BFGS\n",
      "Else.\n",
      "Matrix Hf is singular.\n",
      "[-0.82481702  1.50143264  4.75087859  3.79903454 -1.24065764]\n",
      "BFGS result: nan\n",
      "Test for sample 1\n",
      "Calling gradient\n"
     ]
    },
    {
     "name": "stderr",
     "output_type": "stream",
     "text": [
      "/var/home/pc-146/Documents/UFRJ/8° Período/Otimização/Trabalhos/Trabalho Prático/cos360_optimization_implementation_assignment/obj_test_util5.py:12: RuntimeWarning: invalid value encountered in sqrt\n",
      "  return np.log(np.sqrt(h(x))) + p(x)\n"
     ]
    },
    {
     "name": "stdout",
     "output_type": "stream",
     "text": [
      "Armijo calls:400\n",
      "[0.1030095  0.89259584 0.2182795  0.43752352 0.69449241]\n",
      "Gradient result: 3.9459691331380675e-05\n",
      "Calling newton\n",
      "[0.1030095  0.89259584 0.2182795  0.43752352 0.69449241]\n",
      "Newton result: 3.9459691331380675e-05\n",
      "Calling BFGS\n",
      "Else.\n",
      "Matrix Hf is singular.\n",
      "[ 0.69446384  0.9550034   0.91384483 -1.45880064  0.76161549]\n",
      "BFGS result: -0.00023358724258827184\n",
      "Test for sample 2\n",
      "Calling gradient\n",
      "Armijo calls:400\n",
      "[0.27177297 0.25445747 0.61120756 0.77075882 0.90022443]\n",
      "Gradient result: 7.07933765384121e-05\n",
      "Calling newton\n",
      "[-1.65002286  0.05843765  1.03123732  1.85422146  2.37190336]\n",
      "Newton result: 0.01958409145893247\n",
      "Calling BFGS\n",
      "Else.\n",
      "Matrix Hf is singular.\n",
      "[0.58773485 2.4958326  1.36947886 1.26131299 0.9814226 ]\n",
      "BFGS result: -0.0013696252931829707\n",
      "Test for sample 3\n",
      "Calling gradient\n",
      "Armijo calls:400\n",
      "[0.0880524  0.24068387 0.14431952 0.73101037 0.76854732]\n",
      "Gradient result: 3.169316128231087e-05\n",
      "Calling newton\n",
      "[0.0880524  0.24068387 0.14431952 0.73101037 0.76854732]\n",
      "Newton result: 3.169316128231087e-05\n",
      "Calling BFGS\n",
      "Else.\n",
      "Matrix Hf is singular.\n",
      "[ 8.64935938 -2.77291167  1.74059417 -1.43442547  7.12536454]\n",
      "BFGS result: nan\n",
      "Test for sample 4\n",
      "Calling gradient\n",
      "Armijo calls:400\n",
      "[0.99828851 0.31168501 0.68120121 0.10973715 0.2953642 ]\n",
      "Gradient result: 8.092646278157428e-07\n",
      "Calling newton\n",
      "[0.99828851 0.31168501 0.68120121 0.10973715 0.2953642 ]\n",
      "Newton result: 8.092646278157428e-07\n",
      "Calling BFGS\n",
      "Else.\n",
      "Matrix p or q is singular.\n",
      "[0.99828851 0.31168501 0.68120121 0.10973715 0.2953642 ]\n",
      "BFGS result: 8.092646278157428e-07\n"
     ]
    }
   ],
   "source": [
    "k = 100\n",
    "\n",
    "for i in range(0, 5):\n",
    "    print(f\"Test for sample {i}\")\n",
    "\n",
    "    # x = np.array([0.5, 3, 8, 6, 7])\n",
    "    x = samples[i]\n",
    "\n",
    "    print(\"Calling gradient\")\n",
    "    xf = Gradiente(l, gradient_l, x, k)\n",
    "\n",
    "    print(xf)\n",
    "    print(f\"Gradient result: {l(xf)}\")\n",
    "\n",
    "    print(\"Calling newton\")\n",
    "    xf = Newton_ND(l, gradient_l, hessian_l, x, k)\n",
    "\n",
    "    print(xf)\n",
    "    print(f\"Newton result: {l(xf)}\")\n",
    "\n",
    "    dimensions = 5\n",
    "\n",
    "    print(\"Calling BFGS\")\n",
    "    xf = BFGS(l, gradient_l, x, dimensions, k)\n",
    "\n",
    "    print(xf)\n",
    "    print(f\"BFGS result: {l(xf)}\")"
   ]
  }
 ],
 "metadata": {
  "kernelspec": {
   "display_name": "work_env_kernel",
   "language": "python",
   "name": "work_env_kernel"
  },
  "language_info": {
   "codemirror_mode": {
    "name": "ipython",
    "version": 3
   },
   "file_extension": ".py",
   "mimetype": "text/x-python",
   "name": "python",
   "nbconvert_exporter": "python",
   "pygments_lexer": "ipython3",
   "version": "3.12.0"
  }
 },
 "nbformat": 4,
 "nbformat_minor": 2
}
