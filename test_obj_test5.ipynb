{
 "cells": [
  {
   "cell_type": "code",
   "execution_count": 1,
   "metadata": {},
   "outputs": [],
   "source": [
    "import random\n",
    "import numpy as np\n",
    "\n",
    "from algorithms import Gradiente, Newton_1D, Newton_ND, BFGS\n",
    "\n",
    "from obj_test_util5 import l, gradient_l, hessian_l"
   ]
  },
  {
   "cell_type": "code",
   "execution_count": 2,
   "metadata": {},
   "outputs": [],
   "source": [
    "def prod(sample):\n",
    "    out = 1\n",
    "    for i in range(0, 5):\n",
    "        out = out * sample[i] * (1 - sample[i])\n",
    "    return out\n",
    "\n",
    "def gen_sample():\n",
    "    sample = []\n",
    "    for i in range(0, 5):\n",
    "        sample.append(random.uniform(-50000, 500000))\n",
    "    while prod(sample) < 0:\n",
    "        sample = []\n",
    "        for i in range(0, 5):\n",
    "            sample.append(random.uniform(-50000, 500000))\n",
    "    return sample"
   ]
  },
  {
   "cell_type": "code",
   "execution_count": 3,
   "metadata": {},
   "outputs": [
    {
     "name": "stdout",
     "output_type": "stream",
     "text": [
      "[[338376.19233837584, 0.5633199401199818, 499812.4908813742, 299871.2649062188, 332559.4957632437], [169074.57483546654, 493018.6450663882, 441472.23254182405, 0.26704675130167743, 223027.50592511182], [-13575.678158832547, 0.11016632532846415, 353842.0225115017, 118416.14831907154, 14546.0641750801], [236686.1098496921, 497327.54118380405, 0.20981097018375294, 279907.5925425415, 154158.37236986164], [457353.4217613706, 285277.7963532491, 475936.71398761566, 0.7199459966213908, 379581.12112718524]]\n"
     ]
    }
   ],
   "source": [
    "samples = []\n",
    "\n",
    "for i in range(0, 5):\n",
    "    samples.append(gen_sample())\n",
    "\n",
    "print(samples)"
   ]
  },
  {
   "cell_type": "code",
   "execution_count": 4,
   "metadata": {},
   "outputs": [
    {
     "name": "stdout",
     "output_type": "stream",
     "text": [
      "Test for sample 0\n",
      "Calling gradient\n",
      "Armijo calls:394\n",
      "[3.38376192e+05 1.75058138e+00 4.99812491e+05 2.99871265e+05\n",
      " 3.32559495e+05]\n",
      "Gradient result: nan\n",
      "Calling newton\n",
      "[3.15912368e+05 5.67390871e-01 4.66631358e+05 2.79963676e+05\n",
      " 3.10481825e+05]\n",
      "Newton result: 50.202490961830634\n",
      "Calling BFGS\n",
      "[ 7.61192830e+05 -4.68114528e+15  7.86061869e+05  7.76979706e+05\n",
      "  7.62771502e+05]\n",
      "BFGS result: nan\n",
      "Test for sample 1\n",
      "Calling gradient\n",
      "Armijo calls:397\n",
      "[ 1.69074574e+05  4.93018645e+05  4.41472232e+05 -1.42573086e+02\n",
      "  2.23027505e+05]\n",
      "Gradient result: nan\n",
      "Calling newton\n",
      "[3.58021726e+02 1.04302767e+03 9.34028564e+02 9.17868258e-04\n",
      " 4.72109475e+02]\n",
      "Newton result: 22.32653315810795\n",
      "Calling BFGS\n",
      "Else.\n",
      "Matrix Hf is singular.\n",
      "[4.63406657e+05 5.93915004e+05 5.54150797e+05 3.48438642e+17\n",
      " 4.46113466e+05]\n",
      "BFGS result: nan\n",
      "Test for sample 2\n",
      "Calling gradient\n",
      "Armijo calls:400\n",
      "[-1.35756708e+04  3.60021541e+00  3.53842022e+05  1.18416147e+05\n",
      "  1.45460573e+04]\n",
      "Gradient result: nan\n",
      "Calling newton\n",
      "[-3.01677548e+01  2.86398580e-04  7.98613708e+02  2.67603519e+02\n",
      "  3.33563607e+01]\n",
      "Newton result: 15.10578756422175\n",
      "Calling BFGS\n",
      "Else.\n",
      "Matrix Hf is singular.\n",
      "[-1.52827758e+04 -1.29500822e+14  3.53812895e+05  1.18332416e+05\n",
      "  1.58423601e+04]\n",
      "BFGS result: nan\n",
      "Test for sample 3\n",
      "Calling gradient\n",
      "Armijo calls:394\n",
      "[2.36686109e+05 4.97327541e+05 1.99038498e+00 2.79907592e+05\n",
      " 1.54158372e+05]\n",
      "Gradient result: nan\n",
      "Calling newton\n",
      "[5.15182879e+02 1.08195792e+03 6.34651437e-04 6.09169661e+02\n",
      " 3.35723240e+02]\n",
      "Newton result: 21.7741518976655\n",
      "Calling BFGS\n",
      "[ 1.08729770e+05  4.36430616e+05 -5.63681110e+16  1.71709115e+05\n",
      " -4.22958349e+04]\n",
      "BFGS result: nan\n",
      "Test for sample 4\n",
      "Calling gradient\n",
      "Armijo calls:400\n",
      "[ 4.57353422e+05  2.85277796e+05  4.75936714e+05 -5.65767526e+01\n",
      "  3.79581121e+05]\n",
      "Gradient result: nan\n",
      "Calling newton\n"
     ]
    },
    {
     "name": "stderr",
     "output_type": "stream",
     "text": [
      "/var/home/pc-146/Documents/UFRJ/8° Período/Otimização/Programs/obj_test_util5.py:13: RuntimeWarning: invalid value encountered in sqrt\n",
      "  return np.log(np.sqrt(h(x)))\n"
     ]
    },
    {
     "name": "stdout",
     "output_type": "stream",
     "text": [
      "[9.60543298e+02 5.99334416e+02 9.99552026e+02 9.99002803e-01\n",
      " 7.97289213e+02]\n",
      "Newton result: 23.39357961797083\n",
      "Calling BFGS\n",
      "Else.\n",
      "Matrix Hf is singular.\n",
      "[ 1.23210690e+15 -5.06707772e+15 -1.00674188e+16 -4.38510438e+15\n",
      "  5.59977562e+15]\n",
      "BFGS result: nan\n"
     ]
    }
   ],
   "source": [
    "k = 100\n",
    "\n",
    "for i in range(0, 5):\n",
    "    print(f\"Test for sample {i}\")\n",
    "\n",
    "    # x = np.array([0.5, 3, 8, 6, 7])\n",
    "    x = samples[i]\n",
    "\n",
    "    print(\"Calling gradient\")\n",
    "    xf = Gradiente(l, gradient_l, x, k)\n",
    "\n",
    "    print(xf)\n",
    "    print(f\"Gradient result: {l(xf)}\")\n",
    "\n",
    "    print(\"Calling newton\")\n",
    "    xf = Newton_ND(l, gradient_l, hessian_l, x, k)\n",
    "\n",
    "    print(xf)\n",
    "    print(f\"Newton result: {l(xf)}\")\n",
    "\n",
    "    dimensions = 5\n",
    "\n",
    "    print(\"Calling BFGS\")\n",
    "    xf = BFGS(l, gradient_l, x, dimensions, k)\n",
    "\n",
    "    print(xf)\n",
    "    print(f\"BFGS result: {l(xf)}\")"
   ]
  }
 ],
 "metadata": {
  "kernelspec": {
   "display_name": "work_env_kernel",
   "language": "python",
   "name": "work_env_kernel"
  },
  "language_info": {
   "codemirror_mode": {
    "name": "ipython",
    "version": 3
   },
   "file_extension": ".py",
   "mimetype": "text/x-python",
   "name": "python",
   "nbconvert_exporter": "python",
   "pygments_lexer": "ipython3",
   "version": "3.12.0"
  }
 },
 "nbformat": 4,
 "nbformat_minor": 2
}
