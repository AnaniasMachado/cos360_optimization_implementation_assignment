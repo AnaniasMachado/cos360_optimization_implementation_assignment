{
 "cells": [
  {
   "cell_type": "markdown",
   "metadata": {},
   "source": [
    "# Main\n",
    "\n",
    "Objetivo: Utilizar os algoritmos de otimização implementados para encontrar o(s) ponto(s) de mínimo da função objetivo $$f(x) = \\sqrt{\\ln{(\\prod_{i=1}^{5}x_i(1-x_i))+1}},$$ onde x = (x_1, x_2, x_3, x_4, x_5)."
   ]
  },
  {
   "cell_type": "markdown",
   "metadata": {},
   "source": [
    "## Bibliotecas"
   ]
  },
  {
   "cell_type": "code",
   "execution_count": 1,
   "metadata": {},
   "outputs": [],
   "source": [
    "import random\n",
    "import numpy as np\n",
    "import pandas as pd\n",
    "\n",
    "from algorithms import Gradiente, Newton_1D, Newton_ND, BFGS\n",
    "\n",
    "from obj_test_util3 import f, gradient_f, hessian_f\n",
    "from objective_function_util import f as obj_fn"
   ]
  },
  {
   "cell_type": "markdown",
   "metadata": {},
   "source": [
    "## Aplicando algoritmos"
   ]
  },
  {
   "cell_type": "markdown",
   "metadata": {},
   "source": [
    "### Gerando pontos iniciais"
   ]
  },
  {
   "cell_type": "code",
   "execution_count": 2,
   "metadata": {},
   "outputs": [],
   "source": [
    "def prod(sample):\n",
    "    out = 1\n",
    "    for i in range(0, 5):\n",
    "        out = out * sample[i] * (1 - sample[i])\n",
    "    return out\n",
    "\n",
    "def gen_sample():\n",
    "    sample = []\n",
    "    for i in range(0, 5):\n",
    "        sample.append(random.uniform(0, 1))\n",
    "    while prod(sample) < 0:\n",
    "        sample = []\n",
    "        for i in range(0, 5):\n",
    "            sample.append(random.uniform(0, 1))\n",
    "    return sample"
   ]
  },
  {
   "cell_type": "code",
   "execution_count": 3,
   "metadata": {},
   "outputs": [
    {
     "name": "stdout",
     "output_type": "stream",
     "text": [
      "[0.9230580278456236, 0.865474036115141, 0.9826273884817945, 0.9434118408630133, 0.38788698633167573]\n",
      "[0.033805136989126905, 0.1619925969410012, 0.7934355788966002, 0.382740490685051, 0.1915780358916519]\n",
      "[0.15461337035760192, 0.8038568603184527, 0.8626479354586906, 0.062010210370154306, 0.5500941709868962]\n",
      "[0.830629932210113, 0.6585085188163798, 0.7037990206161885, 0.4799868379787754, 0.9439289693159759]\n",
      "[0.5609958381637458, 0.07582538655044946, 0.5622135498464539, 0.3963957164870867, 0.39448966251836226]\n"
     ]
    }
   ],
   "source": [
    "initial_points = []\n",
    "\n",
    "for i in range(0, 5):\n",
    "    initial_points.append(gen_sample())\n",
    "\n",
    "for initial_point in initial_points:\n",
    "    print(initial_point)"
   ]
  },
  {
   "cell_type": "markdown",
   "metadata": {},
   "source": [
    "### Método do Gradiente"
   ]
  },
  {
   "cell_type": "code",
   "execution_count": 4,
   "metadata": {},
   "outputs": [
    {
     "name": "stdout",
     "output_type": "stream",
     "text": [
      "Ponto inicial 0.\n",
      "x0 = [0.9230580278456236, 0.865474036115141, 0.9826273884817945, 0.9434118408630133, 0.38788698633167573]\n",
      "x: [0.92456379 0.86626187 0.9925154  0.94553094 0.38776882]\n",
      "f(x): 0.0008566836890159794\n",
      "\n",
      "Ponto inicial 1.\n",
      "x0 = [0.033805136989126905, 0.1619925969410012, 0.7934355788966002, 0.382740490685051, 0.1915780358916519]\n",
      "x: [-0.04698509  0.16423806  0.79181671  0.38319056  0.19337745]\n",
      "f(x): nan\n",
      "\n",
      "Ponto inicial 2.\n",
      "x0 = [0.15461337035760192, 0.8038568603184527, 0.8626479354586906, 0.062010210370154306, 0.5500941709868962]\n",
      "x: [0.14380823 0.81160723 0.87531814 0.01158698 0.55089253]\n",
      "f(x): 0.0024128450766545736\n",
      "\n",
      "Ponto inicial 3.\n",
      "x0 = [0.830629932210113, 0.6585085188163798, 0.7037990206161885, 0.4799868379787754, 0.9439289693159759]\n",
      "x: [0.81151769 0.6524992  0.69550602 0.48067431 1.11457531]\n",
      "f(x): nan\n",
      "\n",
      "Ponto inicial 4.\n",
      "x0 = [0.5609958381637458, 0.07582538655044946, 0.5622135498464539, 0.3963957164870867, 0.39448966251836226]\n",
      "x: [ 0.54096857 -0.35374055  0.54177944  0.43096422  0.42972634]\n",
      "f(x): nan\n",
      "\n"
     ]
    },
    {
     "name": "stderr",
     "output_type": "stream",
     "text": [
      "/var/home/pc-146/Documents/UFRJ/8° Período/Otimização/Trabalhos/Trabalho Prático/cos360_optimization_implementation_assignment/objective_function_util.py:7: RuntimeWarning: invalid value encountered in sqrt\n",
      "  return np.sqrt(np.log(prod + 1))\n"
     ]
    }
   ],
   "source": [
    "k = 100\n",
    "\n",
    "for i in range(0, 5):\n",
    "    print(f\"Ponto inicial {i}.\")\n",
    "    x0 = initial_points[i]\n",
    "    print(f\"x0 = {x0}\")\n",
    "    x, iterations, armijo_calls, error = Gradiente(f, gradient_f, x0, k)\n",
    "\n",
    "    print(f\"x: {x}\")\n",
    "    print(f\"f(x): {obj_fn(x)}\")\n",
    "    print(\"\")"
   ]
  },
  {
   "cell_type": "markdown",
   "metadata": {},
   "source": [
    "### Método de Newton"
   ]
  },
  {
   "cell_type": "code",
   "execution_count": 5,
   "metadata": {},
   "outputs": [
    {
     "name": "stdout",
     "output_type": "stream",
     "text": [
      "Ponto inicial 0.\n",
      "x0 = [0.9230580278456236, 0.865474036115141, 0.9826273884817945, 0.9434118408630133, 0.38788698633167573]\n",
      "x: [0.99434827 0.98882596 0.9988491  0.99599717 0.09916613]\n",
      "f(x): 5.042078237330164e-06\n",
      "\n",
      "Ponto inicial 1.\n",
      "x0 = [0.033805136989126905, 0.1619925969410012, 0.7934355788966002, 0.382740490685051, 0.1915780358916519]\n",
      "x: [8.14094970e-04 5.53061255e-03 9.91727122e-01 4.35064124e-02\n",
      " 7.25160875e-03]\n",
      "f(x): 3.3160692045917656e-06\n",
      "\n",
      "Ponto inicial 2.\n",
      "x0 = [0.15461337035760192, 0.8038568603184527, 0.8626479354586906, 0.062010210370154306, 0.5500941709868962]\n",
      "x: [0.00559725 0.99179585 0.99529013 0.00173399 0.86112244]\n",
      "f(x): 6.62934223198811e-06\n",
      "\n",
      "Ponto inicial 3.\n",
      "x0 = [0.830629932210113, 0.6585085188163798, 0.7037990206161885, 0.4799868379787754, 0.9439289693159759]\n",
      "x: [0.99848613 0.98591368 0.99188283 0.22067886 0.99994335]\n",
      "f(x): 1.2832313860417678e-06\n",
      "\n",
      "Ponto inicial 4.\n",
      "x0 = [0.5609958381637458, 0.07582538655044946, 0.5622135498464539, 0.3963957164870867, 0.39448966251836226]\n",
      "x: [ 1.29190215 -0.77871521  1.30675035 -0.78019971 -0.79984029]\n",
      "f(x): nan\n",
      "\n"
     ]
    }
   ],
   "source": [
    "k = 100\n",
    "\n",
    "for i in range(0, 5):\n",
    "    print(f\"Ponto inicial {i}.\")\n",
    "    x0 = initial_points[i]\n",
    "    print(f\"x0 = {x0}\")\n",
    "    x, iterations, error = Newton_ND(f, gradient_f, hessian_f, x0, k)\n",
    "\n",
    "    print(f\"x: {x}\")\n",
    "    print(f\"f(x): {obj_fn(x)}\")\n",
    "    print(\"\")"
   ]
  },
  {
   "cell_type": "markdown",
   "metadata": {},
   "source": [
    "### Método Quase-Newton (BFGS)"
   ]
  },
  {
   "cell_type": "code",
   "execution_count": 6,
   "metadata": {},
   "outputs": [
    {
     "name": "stdout",
     "output_type": "stream",
     "text": [
      "Ponto inicial 0.\n",
      "x0 = [0.9230580278456236, 0.865474036115141, 0.9826273884817945, 0.9434118408630133, 0.38788698633167573]\n",
      "x: [-1.98020743 -0.41400151  3.86426111  1.71926294  1.01238838]\n",
      "f(x): nan\n",
      "\n",
      "Ponto inicial 1.\n",
      "x0 = [0.033805136989126905, 0.1619925969410012, 0.7934355788966002, 0.382740490685051, 0.1915780358916519]\n",
      "x: [-1.07676464  5.09451576 -3.64387323  0.90170479  0.08803236]\n",
      "f(x): nan\n",
      "\n",
      "Ponto inicial 2.\n",
      "x0 = [0.15461337035760192, 0.8038568603184527, 0.8626479354586906, 0.062010210370154306, 0.5500941709868962]\n",
      "x: [ 2.06148427  1.68598122 -1.22386023  1.02120108 -1.12214494]\n",
      "f(x): nan\n",
      "\n",
      "Ponto inicial 3.\n",
      "x0 = [0.830629932210113, 0.6585085188163798, 0.7037990206161885, 0.4799868379787754, 0.9439289693159759]\n",
      "x: [ 0.67658966 -1.0593829   3.86087635 -0.13522163  0.6272949 ]\n",
      "f(x): nan\n",
      "\n",
      "Ponto inicial 4.\n",
      "x0 = [0.5609958381637458, 0.07582538655044946, 0.5622135498464539, 0.3963957164870867, 0.39448966251836226]\n",
      "x: [-0.93126029  1.61610434 -0.92663633  1.05160335  2.66614879]\n",
      "f(x): nan\n",
      "\n"
     ]
    },
    {
     "name": "stderr",
     "output_type": "stream",
     "text": [
      "/var/home/pc-146/Documents/UFRJ/8° Período/Otimização/Trabalhos/Trabalho Prático/cos360_optimization_implementation_assignment/objective_function_util.py:7: RuntimeWarning: invalid value encountered in log\n",
      "  return np.sqrt(np.log(prod + 1))\n"
     ]
    }
   ],
   "source": [
    "k = 100\n",
    "dimensions = 5\n",
    "\n",
    "for i in range(0, 5):\n",
    "    print(f\"Ponto inicial {i}.\")\n",
    "    x0 = initial_points[i]\n",
    "    print(f\"x0 = {x0}\")\n",
    "    x, iterations, error = BFGS(f, gradient_f, x0, dimensions, k)\n",
    "\n",
    "    print(f\"x: {x}\")\n",
    "    print(f\"f(x): {obj_fn(x)}\")\n",
    "    print(\"\")"
   ]
  },
  {
   "cell_type": "markdown",
   "metadata": {},
   "source": [
    "## Apresentação de Resultados"
   ]
  },
  {
   "cell_type": "markdown",
   "metadata": {},
   "source": [
    "### Método do Gradiente"
   ]
  },
  {
   "cell_type": "markdown",
   "metadata": {},
   "source": [
    "### Método de Newton"
   ]
  },
  {
   "cell_type": "markdown",
   "metadata": {},
   "source": [
    "### Método Quase-Newton"
   ]
  },
  {
   "cell_type": "markdown",
   "metadata": {},
   "source": [
    "# "
   ]
  }
 ],
 "metadata": {
  "kernelspec": {
   "display_name": "work_env_kernel",
   "language": "python",
   "name": "work_env_kernel"
  },
  "language_info": {
   "codemirror_mode": {
    "name": "ipython",
    "version": 3
   },
   "file_extension": ".py",
   "mimetype": "text/x-python",
   "name": "python",
   "nbconvert_exporter": "python",
   "pygments_lexer": "ipython3",
   "version": "3.12.0"
  }
 },
 "nbformat": 4,
 "nbformat_minor": 2
}
