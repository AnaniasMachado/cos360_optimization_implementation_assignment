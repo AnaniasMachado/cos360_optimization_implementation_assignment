{
 "cells": [
  {
   "cell_type": "code",
   "execution_count": 1,
   "metadata": {},
   "outputs": [],
   "source": [
    "import numpy as np\n",
    "\n",
    "from algorithms import Busca_Armijo"
   ]
  },
  {
   "cell_type": "code",
   "execution_count": 2,
   "metadata": {},
   "outputs": [],
   "source": [
    "def f(x):\n",
    "    return 0.5*(x[0]-2)**2 + (x[1]-1)**2\n",
    "\n",
    "def df(x):\n",
    "    return np.array([x[0]-2, 2*(x[1]-1)])"
   ]
  },
  {
   "cell_type": "code",
   "execution_count": 4,
   "metadata": {},
   "outputs": [
    {
     "name": "stdout",
     "output_type": "stream",
     "text": [
      "0.6400000000000001\n",
      "[2.92 0.64]\n"
     ]
    }
   ],
   "source": [
    "x0 = np.array([1, 0])\n",
    "d = np.array([3, 1])\n",
    "\n",
    "t = Busca_Armijo(f, df, x0, d, 0.8, 0.25)\n",
    "\n",
    "print(t)\n",
    "print(x0 + t*d)"
   ]
  }
 ],
 "metadata": {
  "kernelspec": {
   "display_name": "work_env_kernel",
   "language": "python",
   "name": "work_env_kernel"
  },
  "language_info": {
   "codemirror_mode": {
    "name": "ipython",
    "version": 3
   },
   "file_extension": ".py",
   "mimetype": "text/x-python",
   "name": "python",
   "nbconvert_exporter": "python",
   "pygments_lexer": "ipython3",
   "version": "3.12.0"
  }
 },
 "nbformat": 4,
 "nbformat_minor": 2
}
