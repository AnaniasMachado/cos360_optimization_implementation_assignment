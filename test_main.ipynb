{
 "cells": [
  {
   "cell_type": "code",
   "execution_count": 1,
   "metadata": {},
   "outputs": [],
   "source": [
    "import random\n",
    "import numpy as np\n",
    "\n",
    "from algorithms import Gradiente, Newton_1D, Newton_ND, BFGS\n",
    "\n",
    "from objective_function_util import f, gradient_f, hessian_f"
   ]
  },
  {
   "cell_type": "code",
   "execution_count": 2,
   "metadata": {},
   "outputs": [
    {
     "name": "stdout",
     "output_type": "stream",
     "text": [
      "[[-0.97236476  0.53436728 -0.37457163 -0.72457781 -0.09109139]\n",
      " [-0.3811735  -1.48416235  2.02941067  0.76083144 -1.25419408]]\n",
      "(2, 5)\n",
      "[[-1.3144908  -0.59497882 -1.45934255  0.30917719  0.23481049]\n",
      " [-0.37795825  0.38034459  0.46653554  0.86692539  0.19371763]]\n"
     ]
    }
   ],
   "source": [
    "noise = np.random.normal(0, 1, (2, 5))\n",
    "print(noise)\n",
    "print(noise.shape)\n",
    "noise2 = np.random.normal(0, 1, noise.shape)\n",
    "print(noise2)"
   ]
  },
  {
   "cell_type": "code",
   "execution_count": 3,
   "metadata": {},
   "outputs": [
    {
     "name": "stdout",
     "output_type": "stream",
     "text": [
      "148.4131591025766\n"
     ]
    }
   ],
   "source": [
    "a = np.exp(5)\n",
    "print(a)"
   ]
  },
  {
   "cell_type": "code",
   "execution_count": 4,
   "metadata": {},
   "outputs": [
    {
     "name": "stdout",
     "output_type": "stream",
     "text": [
      "[[1 2 3]\n",
      " [4 5 6]]\n",
      "[[2.0225498  1.03911797 4.52043706]\n",
      " [3.71382464 5.48903529 5.47442629]]\n"
     ]
    }
   ],
   "source": [
    "a = np.array([[1, 2, 3], [4, 5, 6]])\n",
    "print(a)\n",
    "b = a + np.random.normal(0, 1, a.shape)\n",
    "print(b)"
   ]
  },
  {
   "cell_type": "code",
   "execution_count": 5,
   "metadata": {},
   "outputs": [],
   "source": [
    "def prod(sample):\n",
    "    out = 1\n",
    "    for i in range(0, 5):\n",
    "        out = out * sample[i] * (1 - sample[i])\n",
    "    return out\n",
    "\n",
    "def gen_sample():\n",
    "    sample = []\n",
    "    for i in range(0, 5):\n",
    "        sample.append(random.uniform(0, 1))\n",
    "    while prod(sample) < 0:\n",
    "        sample = []\n",
    "        for i in range(0, 5):\n",
    "            sample.append(random.uniform(0, 1))\n",
    "    return sample"
   ]
  },
  {
   "cell_type": "code",
   "execution_count": 6,
   "metadata": {},
   "outputs": [
    {
     "name": "stdout",
     "output_type": "stream",
     "text": [
      "[[0.21536326727373267, 0.8419150116623415, 0.303869090667939, 0.13681229372244008, 0.8884829070563746], [0.831057025258251, 0.9245799459866738, 0.36458609589415003, 0.9638005796371477, 0.33506527912853723], [0.3152558824784817, 0.08363552512640371, 0.7089443787522436, 0.21009366140700714, 0.23547910159947227], [0.7705799662852973, 0.4115116364508674, 0.8808038904785289, 0.26817107745927604, 0.6232123582343894], [0.9759966471351302, 0.3543037782919267, 0.6220926993018864, 0.001502775774515297, 0.9107464687720265]]\n"
     ]
    }
   ],
   "source": [
    "samples = []\n",
    "\n",
    "for i in range(0, 5):\n",
    "    samples.append(gen_sample())\n",
    "\n",
    "print(samples)"
   ]
  },
  {
   "cell_type": "code",
   "execution_count": 7,
   "metadata": {},
   "outputs": [
    {
     "name": "stdout",
     "output_type": "stream",
     "text": [
      "0.007460925399236046\n",
      "0.004198810241472412\n",
      "0.010098884726405268\n",
      "0.01439162378417945\n",
      "0.0003920254699191024\n"
     ]
    }
   ],
   "source": [
    "for sample in samples:\n",
    "    print(f(sample))"
   ]
  },
  {
   "cell_type": "code",
   "execution_count": 8,
   "metadata": {},
   "outputs": [
    {
     "name": "stdout",
     "output_type": "stream",
     "text": [
      "3.401425178799019\n",
      "[0.         0.12249767 0.03937425 0.05389898 0.04549914]\n",
      "[[-0.2939916356527391, -0.5005743444700167, -0.1608988964367911, -0.22025271156680737, -0.18592761366029195], [-0.0, 0.34495441772361296, -0.026815707719234857, -0.036707724344552606, -0.030987040031115836], [-0.0, -0.03127775881695764, 0.32213491581731474, -0.01376221387946136, -0.011617453274869979], [-0.0, -0.04170869366463398, -0.013406365820775205, 0.32450814401556966, -0.015491800504006904], [-0.0, -0.035748324803610926, -0.011490532972589222, -0.015729262913588803, 0.3230476958935666]]\n",
      "-0.003290024872757404\n",
      "0.941568092821632\n"
     ]
    }
   ],
   "source": [
    "x = np.array([0.5, 3, 8, 6, 7])\n",
    "\n",
    "print(f(x))\n",
    "print(gradient_f(x))\n",
    "print(hessian_f(x))\n",
    "\n",
    "print(np.linalg.det(hessian_f(x)))\n",
    "print(np.linalg.norm(hessian_f(x)))"
   ]
  },
  {
   "cell_type": "code",
   "execution_count": 9,
   "metadata": {},
   "outputs": [
    {
     "name": "stdout",
     "output_type": "stream",
     "text": [
      "Armijo calls:13\n",
      "[0.5        0.48663109 7.57377982 5.40184394 6.5028746 ]\n",
      "nan\n",
      "Nan value in matrix Hf_inv\n",
      "[1.60720175 2.58740602 7.82024297 5.76369113 6.79559939]\n",
      "nan\n",
      "Else.\n",
      "Nan value in matrix p or q.\n",
      "[-0.05993868  2.29032272  7.96226511  6.17255543  6.99008942]\n",
      "nan\n"
     ]
    },
    {
     "name": "stderr",
     "output_type": "stream",
     "text": [
      "/var/home/pc-146/Documents/UFRJ/8° Período/Otimização/Trabalhos/Trabalho Prático/cos360_optimization_implementation_assignment/objective_function_util.py:7: RuntimeWarning: invalid value encountered in log\n",
      "  return np.sqrt(np.log(prod + 1))\n",
      "/var/home/pc-146/.conda/envs/work_env/lib/python3.12/site-packages/numpy/linalg/linalg.py:2180: RuntimeWarning: invalid value encountered in det\n",
      "  r = _umath_linalg.det(a, signature=signature)\n"
     ]
    }
   ],
   "source": [
    "x = np.array([0.5, 3, 8, 6, 7])\n",
    "\n",
    "xf = Gradiente(f, gradient_f, x, 11000)\n",
    "\n",
    "print(xf)\n",
    "print(f(xf))\n",
    "\n",
    "xf = Newton_ND(f, gradient_f, hessian_f, x, 11000)\n",
    "\n",
    "print(xf)\n",
    "print(f(xf))\n",
    "\n",
    "dimensions = 5\n",
    "\n",
    "xf = BFGS(f, gradient_f, x, dimensions, 11000)\n",
    "\n",
    "print(xf)\n",
    "print(f(xf))"
   ]
  },
  {
   "cell_type": "code",
   "execution_count": 10,
   "metadata": {},
   "outputs": [
    {
     "name": "stdout",
     "output_type": "stream",
     "text": [
      "Test for sample 0\n",
      "Results for gradient\n",
      "Armijo calls:4\n",
      "[-225.55034696  345.16535336 -123.96887853 -412.06326738  526.40781956]\n",
      "nan\n",
      "Results for newton\n",
      "Nan value in matrix Hf_inv\n",
      "[-1.11204292  0.07893284 -1.89999147 -0.61333556  0.02393363]\n",
      "nan\n",
      "Results for BFGS\n",
      "Elif.\n",
      "Nan value in matrix p or q.\n",
      "Matrix p: [[-225.76571023  344.32343835 -124.27274762 -412.20007967  525.51933666]\n",
      " [          nan           nan           nan           nan           nan]\n",
      " [          nan           nan           nan           nan           nan]\n",
      " [          nan           nan           nan           nan           nan]\n",
      " [          nan           nan           nan           nan           nan]]\n",
      "Matrix q: [[nan nan nan nan nan]\n",
      " [nan nan nan nan nan]\n",
      " [nan nan nan nan nan]\n",
      " [nan nan nan nan nan]\n",
      " [nan nan nan nan nan]]\n",
      "[nan nan nan nan nan]\n",
      "nan\n",
      "Test for sample 1\n",
      "Results for gradient\n",
      "Armijo calls:4\n",
      "[ 562.4032545  1451.03783096 -138.84854313 3167.00264935 -175.97512095]\n",
      "nan\n",
      "Results for newton\n",
      "Nan value in matrix Hf_inv\n",
      "[  1.72591104   0.55025498 -14.09252859   0.23167001 -11.33745472]\n",
      "nan\n",
      "Results for BFGS\n",
      "Elif.\n",
      "Nan value in matrix p or q.\n",
      "Matrix p: [[ 561.57219747 1450.11325101 -139.21312923 3166.03884877 -176.31018623]\n",
      " [          nan           nan           nan           nan           nan]\n",
      " [          nan           nan           nan           nan           nan]\n",
      " [          nan           nan           nan           nan           nan]\n",
      " [          nan           nan           nan           nan           nan]]\n",
      "Matrix q: [[nan nan nan nan nan]\n",
      " [nan nan nan nan nan]\n",
      " [nan nan nan nan nan]\n",
      " [nan nan nan nan nan]\n",
      " [nan nan nan nan nan]]\n",
      "[nan nan nan nan nan]\n",
      "nan\n",
      "Test for sample 2\n",
      "Results for gradient\n",
      "Armijo calls:4\n",
      "[ -84.42810713 -537.86550757  100.97850736 -172.76984843 -145.25843998]\n",
      "nan\n",
      "Results for newton\n",
      "Nan value in matrix Hf_inv\n",
      "[ 0.25564778  0.00171222 -0.76102888  0.05402988  0.08201351]\n",
      "nan\n",
      "Results for BFGS\n",
      "Elif.\n",
      "Nan value in matrix p or q.\n",
      "Matrix p: [[ -84.74336301 -537.9491431   100.26956298 -172.97994209 -145.49391908]\n",
      " [          nan           nan           nan           nan           nan]\n",
      " [          nan           nan           nan           nan           nan]\n",
      " [          nan           nan           nan           nan           nan]\n",
      " [          nan           nan           nan           nan           nan]]\n",
      "Matrix q: [[nan nan nan nan nan]\n",
      " [nan nan nan nan nan]\n",
      " [nan nan nan nan nan]\n",
      " [nan nan nan nan nan]\n",
      " [nan nan nan nan nan]]\n",
      "[nan nan nan nan nan]\n",
      "nan\n",
      "Test for sample 3\n",
      "Results for gradient\n",
      "Armijo calls:4\n",
      "[107.12040695 -24.97811801 252.90966357 -81.81163339  37.08280111]\n",
      "nan\n",
      "Results for newton\n",
      "Nan value in matrix Hf_inv\n",
      "[ 0.36411843 -4.83295259  0.07051851 -1.7702524   1.98086652]\n",
      "nan\n",
      "Results for BFGS\n",
      "Elif.\n",
      "Nan value in matrix p or q.\n",
      "Matrix p: [[106.34982698 -25.38962965 252.02885968 -82.07980447  36.45958875]\n",
      " [         nan          nan          nan          nan          nan]\n",
      " [         nan          nan          nan          nan          nan]\n",
      " [         nan          nan          nan          nan          nan]\n",
      " [         nan          nan          nan          nan          nan]]\n",
      "Matrix q: [[nan nan nan nan nan]\n",
      " [nan nan nan nan nan]\n",
      " [nan nan nan nan nan]\n",
      " [nan nan nan nan nan]\n",
      " [nan nan nan nan nan]]\n",
      "[nan nan nan nan nan]\n",
      "nan\n",
      "Test for sample 4\n",
      "Results for gradient\n",
      "Armijo calls:4\n",
      "[  51829.56363721   -1624.18407821    1325.37543768 -847436.98126213\n",
      "   12890.42795853]\n",
      "nan\n",
      "Results for newton\n",
      "Nan value in matrix Hf_inv\n",
      "[  0.17057669 -14.60328692  13.06717949  -0.02589884   0.78476214]\n",
      "nan\n",
      "Results for BFGS\n",
      "Elif.\n",
      "Nan value in matrix p or q.\n",
      "Matrix p: [[  51828.58764056   -1624.53838199    1324.75334498 -847436.98276491\n",
      "    12889.51721206]\n",
      " [             nan              nan              nan              nan\n",
      "               nan]\n",
      " [             nan              nan              nan              nan\n",
      "               nan]\n",
      " [             nan              nan              nan              nan\n",
      "               nan]\n",
      " [             nan              nan              nan              nan\n",
      "               nan]]\n",
      "Matrix q: [[nan nan nan nan nan]\n",
      " [nan nan nan nan nan]\n",
      " [nan nan nan nan nan]\n",
      " [nan nan nan nan nan]\n",
      " [nan nan nan nan nan]]\n",
      "[nan nan nan nan nan]\n",
      "nan\n"
     ]
    },
    {
     "name": "stderr",
     "output_type": "stream",
     "text": [
      "/var/home/pc-146/Documents/UFRJ/8° Período/Otimização/Trabalhos/Trabalho Prático/cos360_optimization_implementation_assignment/objective_function_util.py:7: RuntimeWarning: invalid value encountered in sqrt\n",
      "  return np.sqrt(np.log(prod + 1))\n"
     ]
    }
   ],
   "source": [
    "for i in range(0, 5):\n",
    "    print(f\"Test for sample {i}\")\n",
    "\n",
    "    # x = np.array([0.5, 3, 8, 6, 7])\n",
    "    x = samples[i]\n",
    "\n",
    "    print(\"Results for gradient\")\n",
    "    xf = Gradiente(f, gradient_f, x, 11000)\n",
    "\n",
    "    print(xf)\n",
    "    print(f(xf))\n",
    "\n",
    "    print(\"Results for newton\")\n",
    "    xf = Newton_ND(f, gradient_f, hessian_f, x, 11000)\n",
    "\n",
    "    print(xf)\n",
    "    print(f(xf))\n",
    "\n",
    "    dimensions = 5\n",
    "\n",
    "    print(\"Results for BFGS\")\n",
    "    xf = BFGS(f, gradient_f, x, dimensions, 11000)\n",
    "\n",
    "    print(xf)\n",
    "    print(f(xf))"
   ]
  }
 ],
 "metadata": {
  "kernelspec": {
   "display_name": "work_env_kernel",
   "language": "python",
   "name": "work_env_kernel"
  },
  "language_info": {
   "codemirror_mode": {
    "name": "ipython",
    "version": 3
   },
   "file_extension": ".py",
   "mimetype": "text/x-python",
   "name": "python",
   "nbconvert_exporter": "python",
   "pygments_lexer": "ipython3",
   "version": "3.12.0"
  }
 },
 "nbformat": 4,
 "nbformat_minor": 2
}
