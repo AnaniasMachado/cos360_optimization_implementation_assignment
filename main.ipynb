{
 "cells": [
  {
   "cell_type": "markdown",
   "metadata": {},
   "source": [
    "# Main\n",
    "\n",
    "Objetivo: Utilizar os algoritmos de otimização implementados para encontrar o(s) ponto(s) de mínimo da função objetivo $$f(x) = \\sqrt{\\ln((\\prod_{i=1}^{5}x_i(1-x_i))+1)},$$ onde x = (x_1, x_2, x_3, x_4, x_5)."
   ]
  },
  {
   "cell_type": "markdown",
   "metadata": {},
   "source": [
    "### Observações"
   ]
  },
  {
   "cell_type": "markdown",
   "metadata": {},
   "source": [
    "Devido a problemas de precisão numérica otimizando a função objetivo f(x) (underflow), foi decidido otimizar uma função alternativa $$g(x) = (\\prod_{i=1}^{5}x_i(1-x_i))+1,$$ que é equivalente a minimizar a função f(x) pois as funções raíz quadrada e logaritmo são funções não-decrescentes."
   ]
  },
  {
   "cell_type": "markdown",
   "metadata": {},
   "source": [
    "Além disso, como a função objetivo só está definida quando $$(\\prod_{i=1}^{5}x_i(1-x_i))+1 \\geq 1 \\\\ \\Leftrightarrow \\prod_{i=1}^{5}x_i(1-x_i) \\geq 0 \\\\ \\Leftrightarrow -\\prod_{i=1}^{5}x_i(1-x_i) \\leq 0,$$ pois a função raíz quadrada requer que o argumento seja maior ou igual a zero, e durante o algoritmo pode ser que o argumento deixe de satisfazer a esta inequação, foi decidido utilizar uma função de penalização $$p(x) = \\rho \\max(0, -\\prod_{i=1}^{5}x_i(1-x_i))^2,$$ com parâmetro rho = 0.001."
   ]
  },
  {
   "cell_type": "markdown",
   "metadata": {},
   "source": [
    "## Bibliotecas"
   ]
  },
  {
   "cell_type": "code",
   "execution_count": 202,
   "metadata": {},
   "outputs": [],
   "source": [
    "import random\n",
    "import numpy as np\n",
    "import pandas as pd\n",
    "\n",
    "from algorithms import Gradiente, Newton_1D, Newton_ND, BFGS\n",
    "\n",
    "from obj_test_util3_pn import f, gradient_f, hessian_f\n",
    "from objective_function_util import f as obj_fn"
   ]
  },
  {
   "cell_type": "markdown",
   "metadata": {},
   "source": [
    "## Aplicando algoritmos"
   ]
  },
  {
   "cell_type": "markdown",
   "metadata": {},
   "source": [
    "### Gerando pontos iniciais"
   ]
  },
  {
   "cell_type": "code",
   "execution_count": 203,
   "metadata": {},
   "outputs": [],
   "source": [
    "def prod(sample):\n",
    "    out = 1\n",
    "    for i in range(0, 5):\n",
    "        out = out * sample[i] * (1 - sample[i])\n",
    "    return out\n",
    "\n",
    "def gen_sample():\n",
    "    sample = []\n",
    "    for i in range(0, 5):\n",
    "        sample.append(random.uniform(0, 1))\n",
    "    while prod(sample) < 0:\n",
    "        sample = []\n",
    "        for i in range(0, 5):\n",
    "            sample.append(random.uniform(0, 1))\n",
    "    return sample"
   ]
  },
  {
   "cell_type": "code",
   "execution_count": 204,
   "metadata": {},
   "outputs": [
    {
     "name": "stdout",
     "output_type": "stream",
     "text": [
      "[0.5218226579138382, 0.1766351505210949, 0.5230897881307102, 0.006077009838843517, 0.24398081516009718]\n",
      "[0.5156780040614635, 0.956428224641158, 0.8693971398531677, 0.615504143527244, 0.23086015479926747]\n",
      "[0.2946226807749026, 0.3898831682375272, 0.2645512612918487, 0.7115753853206658, 0.7818204400208536]\n",
      "[0.34438551450511534, 0.7289656385061903, 0.35330868392429093, 0.5075578743337829, 0.6734455167549697]\n",
      "[0.13211349436008835, 0.9989410860061092, 0.8374395095548139, 0.7823695821889023, 0.8345965420536839]\n"
     ]
    }
   ],
   "source": [
    "initial_points = []\n",
    "\n",
    "for i in range(0, 5):\n",
    "    initial_points.append(gen_sample())\n",
    "\n",
    "for initial_point in initial_points:\n",
    "    print(initial_point)"
   ]
  },
  {
   "cell_type": "markdown",
   "metadata": {},
   "source": [
    "### Método do Gradiente"
   ]
  },
  {
   "cell_type": "markdown",
   "metadata": {},
   "source": [
    "Foi utilizado como critério de parada $$\\Vert \\nabla f(x_k) \\Vert \\leq \\epsilon$$ ou que k iterações do algoritmo tenham se passado. Onde x_k é o ponto x na k-ésima iteração, o valor de epsilon é fixado como 10^-6 e k é um parâmetro do algoritmo, que nos experimentos foi utilizado o valor k = 100."
   ]
  },
  {
   "cell_type": "code",
   "execution_count": 205,
   "metadata": {},
   "outputs": [
    {
     "name": "stderr",
     "output_type": "stream",
     "text": [
      "/var/home/pc-146/Documents/UFRJ/8° Período/Otimização/Trabalhos/Trabalho Prático/cos360_optimization_implementation_assignment/objective_function_util.py:7: RuntimeWarning: invalid value encountered in sqrt\n",
      "  return np.sqrt(np.log(prod + 1))\n"
     ]
    }
   ],
   "source": [
    "k = 100\n",
    "data = []\n",
    "\n",
    "for i in range(0, 5):\n",
    "    x0 = initial_points[i]\n",
    "    x, iterations, armijo_calls, error = Gradiente(f, gradient_f, x0, k)\n",
    "    data.append([x0, iterations, armijo_calls, x, obj_fn(x), error])\n",
    "\n",
    "columns = [\"Ponto inicial\", \"# de iterações\", \"# de chamadas de Armijo\", \"Ponto ótimo\", \\\n",
    "\"Valor ótimo\", \"Erro de aproximação\"]\n",
    "\n",
    "df_gradiente = pd.DataFrame(data, columns=columns)"
   ]
  },
  {
   "cell_type": "markdown",
   "metadata": {},
   "source": [
    "### Método de Newton"
   ]
  },
  {
   "cell_type": "markdown",
   "metadata": {},
   "source": [
    "Foi utilizado como critério de parada $$\\frac{\\Vert \\nabla f(x_{k-1}+td) - \\nabla f(x_{k-1}) \\Vert}{\\Vert td \\Vert} \\leq \\epsilon$$ ou que k iterações do algoritmo tenham se passado. Onde x_{k-1} é o ponto x obtido na (k-1)-ésima iteração, t é o tamanho do passo, d é a direção do passo, o valor de epsilon é fixado como 10^-6 e k é um parâmetro do algoritmo, que nos experimentos foi utilizado o valor k = 100."
   ]
  },
  {
   "cell_type": "code",
   "execution_count": 206,
   "metadata": {},
   "outputs": [],
   "source": [
    "k = 100\n",
    "data = []\n",
    "\n",
    "for i in range(0, 5):\n",
    "    x0 = initial_points[i]\n",
    "    x, iterations, error = Newton_ND(f, gradient_f, hessian_f, x0, k)\n",
    "    data.append([x0, iterations, x, obj_fn(x), error])\n",
    "\n",
    "columns = [\"Ponto inicial\", \"# de iterações\", \"Ponto ótimo\", \\\n",
    "\"Valor ótimo\", \"Erro de aproximação\"]\n",
    "\n",
    "df_newton = pd.DataFrame(data, columns=columns)"
   ]
  },
  {
   "cell_type": "markdown",
   "metadata": {},
   "source": [
    "### Método Quase-Newton (BFGS)"
   ]
  },
  {
   "cell_type": "markdown",
   "metadata": {},
   "source": [
    "Foi utilizado como critério de parada $$\\frac{\\Vert \\nabla f(x_{k-1}+td) - \\nabla f(x_{k-1}) \\Vert}{\\Vert td \\Vert} \\leq \\epsilon$$ ou que k iterações do algoritmo tenham se passado. Onde x_{k-1} é o ponto x obtido na (k-1)-ésima iteração, t é o tamanho do passo, d é a direção do passo, o valor de epsilon é fixado como 10^-6 e k é um parâmetro do algoritmo, que nos experimentos foi utilizado o valor k = 100."
   ]
  },
  {
   "cell_type": "code",
   "execution_count": 207,
   "metadata": {},
   "outputs": [
    {
     "name": "stderr",
     "output_type": "stream",
     "text": [
      "/var/home/pc-146/Documents/UFRJ/8° Período/Otimização/Trabalhos/Trabalho Prático/cos360_optimization_implementation_assignment/objective_function_util.py:7: RuntimeWarning: invalid value encountered in log\n",
      "  return np.sqrt(np.log(prod + 1))\n"
     ]
    }
   ],
   "source": [
    "k = 100\n",
    "dimensions = 5\n",
    "data = []\n",
    "\n",
    "for i in range(0, 5):\n",
    "    x0 = initial_points[i]\n",
    "    x, iterations, error = BFGS(f, gradient_f, x0, dimensions, k)\n",
    "    data.append([x0, iterations, x, obj_fn(x), error])\n",
    "\n",
    "columns = [\"Ponto inicial\", \"# de iterações\", \"Ponto ótimo\", \\\n",
    "\"Valor ótimo\", \"Erro de aproximação\"]\n",
    "\n",
    "df_bfgs = pd.DataFrame(data, columns=columns)"
   ]
  },
  {
   "cell_type": "markdown",
   "metadata": {},
   "source": [
    "## Apresentação de Resultados"
   ]
  },
  {
   "cell_type": "markdown",
   "metadata": {},
   "source": [
    "### Método do Gradiente"
   ]
  },
  {
   "cell_type": "code",
   "execution_count": 208,
   "metadata": {},
   "outputs": [
    {
     "name": "stdout",
     "output_type": "stream",
     "text": [
      "                                                                                             Ponto inicial  \\\n",
      "0  [0.5218226579138382, 0.1766351505210949, 0.5230897881307102, 0.006077009838843517, 0.24398081516009718]   \n",
      "1      [0.5156780040614635, 0.956428224641158, 0.8693971398531677, 0.615504143527244, 0.23086015479926747]   \n",
      "2     [0.2946226807749026, 0.3898831682375272, 0.2645512612918487, 0.7115753853206658, 0.7818204400208536]   \n",
      "3   [0.34438551450511534, 0.7289656385061903, 0.35330868392429093, 0.5075578743337829, 0.6734455167549697]   \n",
      "4    [0.13211349436008835, 0.9989410860061092, 0.8374395095548139, 0.7823695821889023, 0.8345965420536839]   \n",
      "\n",
      "   # de iterações  # de chamadas de Armijo  \\\n",
      "0             100                      100   \n",
      "1             100                      100   \n",
      "2             100                      100   \n",
      "3             100                      100   \n",
      "4             100                      100   \n",
      "\n",
      "                                                                                             Ponto ótimo  \\\n",
      "0   [0.5183848830176172, 0.24945863728373355, 0.5194517529387336, -0.22046129956921, 0.2940507185865038]   \n",
      "1  [0.5154617413363577, 1.0763699792175434, 0.8586189259586605, 0.6138245602125728, 0.23603126421378037]   \n",
      "2   [0.2436082332815366, 0.3674026178623448, 0.1992971118302677, 0.7651853531120063, 0.8849815175138709]   \n",
      "3     [0.2772458368574137, 0.866901903066846, 0.2914452313434569, 0.510286455201647, 0.7523592736816708]   \n",
      "4  [0.13644161294824103, 1.0377491983606337, 0.8340747502227699, 0.7801060690475444, 0.8313049262034645]   \n",
      "\n",
      "   Valor ótimo  Erro de aproximação  \n",
      "0          NaN             0.004113  \n",
      "1          NaN             0.001654  \n",
      "2     0.011180             0.001180  \n",
      "3     0.014909             0.001676  \n",
      "4          NaN             0.000448  \n"
     ]
    }
   ],
   "source": [
    "pd.set_option('display.max_colwidth', None)\n",
    "print(df_gradiente.head())"
   ]
  },
  {
   "cell_type": "markdown",
   "metadata": {},
   "source": [
    "### Método de Newton"
   ]
  },
  {
   "cell_type": "code",
   "execution_count": 209,
   "metadata": {},
   "outputs": [
    {
     "name": "stdout",
     "output_type": "stream",
     "text": [
      "                                                                                             Ponto inicial  \\\n",
      "0  [0.5218226579138382, 0.1766351505210949, 0.5230897881307102, 0.006077009838843517, 0.24398081516009718]   \n",
      "1      [0.5156780040614635, 0.956428224641158, 0.8693971398531677, 0.615504143527244, 0.23086015479926747]   \n",
      "2     [0.2946226807749026, 0.3898831682375272, 0.2645512612918487, 0.7115753853206658, 0.7818204400208536]   \n",
      "3   [0.34438551450511534, 0.7289656385061903, 0.35330868392429093, 0.5075578743337829, 0.6734455167549697]   \n",
      "4    [0.13211349436008835, 0.9989410860061092, 0.8374395095548139, 0.7823695821889023, 0.8345965420536839]   \n",
      "\n",
      "   # de iterações  \\\n",
      "0               6   \n",
      "1               7   \n",
      "2               5   \n",
      "3              10   \n",
      "4               8   \n",
      "\n",
      "                                                                                                    Ponto ótimo  \\\n",
      "0  [0.809839386513708, 0.0011721572056395914, 0.8197387654623859, 1.0554755075053111e-06, 0.002870826807102972]   \n",
      "1        [0.7374948664198361, 0.9997332355443656, 0.9986757079901791, 0.9751639825282271, 0.004250188481653156]   \n",
      "2  [0.0041194653043710085, 0.058507240304622496, -0.003802803944500356, 0.9977428506172643, 1.0114007009565578]   \n",
      "3     [1.004349959289751, -0.0059076556493575915, 1.003794676420997, 0.1743184992826561, -0.005202037445284041]   \n",
      "4          [0.00700744453466902, 0.999956151610682, 0.9906919123117939, 0.9853118532410793, 0.9904567084011175]   \n",
      "\n",
      "    Valor ótimo  Erro de aproximação  \n",
      "0  2.839053e-07         9.029511e-07  \n",
      "1  2.645575e-06         4.925738e-07  \n",
      "2  4.732943e-06         5.594473e-07  \n",
      "3  8.627258e-06         6.496085e-07  \n",
      "4  6.203252e-07         9.946735e-07  \n"
     ]
    }
   ],
   "source": [
    "pd.set_option('display.max_colwidth', None)\n",
    "print(df_newton.head())"
   ]
  },
  {
   "cell_type": "markdown",
   "metadata": {},
   "source": [
    "### Método Quase-Newton"
   ]
  },
  {
   "cell_type": "code",
   "execution_count": 210,
   "metadata": {},
   "outputs": [
    {
     "name": "stdout",
     "output_type": "stream",
     "text": [
      "                                                                                             Ponto inicial  \\\n",
      "0  [0.5218226579138382, 0.1766351505210949, 0.5230897881307102, 0.006077009838843517, 0.24398081516009718]   \n",
      "1      [0.5156780040614635, 0.956428224641158, 0.8693971398531677, 0.615504143527244, 0.23086015479926747]   \n",
      "2     [0.2946226807749026, 0.3898831682375272, 0.2645512612918487, 0.7115753853206658, 0.7818204400208536]   \n",
      "3   [0.34438551450511534, 0.7289656385061903, 0.35330868392429093, 0.5075578743337829, 0.6734455167549697]   \n",
      "4    [0.13211349436008835, 0.9989410860061092, 0.8374395095548139, 0.7823695821889023, 0.8345965420536839]   \n",
      "\n",
      "   # de iterações  \\\n",
      "0               9   \n",
      "1               9   \n",
      "2               9   \n",
      "3               9   \n",
      "4               9   \n",
      "\n",
      "                                                                                              Ponto ótimo  \\\n",
      "0      [3.5549992625694857, -4.169509569553837, 1.165139592418136, -2.0886484469361473, 2.76199782312631]   \n",
      "1  [3.496535164874569, -1.2489702758308603, -0.43476498931315133, 0.8767572046435421, 0.6731190916816203]   \n",
      "2    [-5.98052008957094, -2.5581923436407474, 2.8320845826491934, 0.011152491813683763, 8.13832926652308]   \n",
      "3    [-1.320874201356519, -0.3588642937153861, 2.705951803622182, -2.2893035439995635, 3.874411903363738]   \n",
      "4    [-0.4088717725636059, 4.4812809700017775, 0.979503044584062, -2.160362631903273, 0.7676474468278053]   \n",
      "\n",
      "   Valor ótimo  Erro de aproximação  \n",
      "0          NaN                  0.0  \n",
      "1          NaN                  0.0  \n",
      "2     2.672489                  0.0  \n",
      "3          NaN                  0.0  \n",
      "4          NaN                  0.0  \n"
     ]
    }
   ],
   "source": [
    "pd.set_option('display.max_colwidth', None)\n",
    "print(df_bfgs.head())"
   ]
  },
  {
   "cell_type": "markdown",
   "metadata": {},
   "source": [
    "# "
   ]
  }
 ],
 "metadata": {
  "kernelspec": {
   "display_name": "work_env_kernel",
   "language": "python",
   "name": "work_env_kernel"
  },
  "language_info": {
   "codemirror_mode": {
    "name": "ipython",
    "version": 3
   },
   "file_extension": ".py",
   "mimetype": "text/x-python",
   "name": "python",
   "nbconvert_exporter": "python",
   "pygments_lexer": "ipython3",
   "version": "3.12.0"
  }
 },
 "nbformat": 4,
 "nbformat_minor": 2
}
