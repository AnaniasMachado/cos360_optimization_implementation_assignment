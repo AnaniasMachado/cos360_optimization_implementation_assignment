{
 "cells": [
  {
   "cell_type": "markdown",
   "metadata": {},
   "source": [
    "# Main\n",
    "\n",
    "Objetivo: Utilizar os algoritmos de otimização implementados para encontrar o(s) ponto(s) de mínimo da função objetivo $$f(x) = \\sqrt{\\ln{(\\prod_{i=1}^{5}x_i(1-x_i))+1}},$$ onde x = (x_1, x_2, x_3, x_4, x_5)."
   ]
  },
  {
   "cell_type": "markdown",
   "metadata": {},
   "source": [
    "## Bibliotecas"
   ]
  },
  {
   "cell_type": "code",
   "execution_count": 52,
   "metadata": {},
   "outputs": [],
   "source": [
    "import random\n",
    "import numpy as np\n",
    "\n",
    "from algorithms import Gradiente, Newton_1D, Newton_ND, BFGS\n",
    "\n",
    "from obj_test_util3 import f, gradient_f, hessian_f\n",
    "from objective_function_util import f as obj_fn"
   ]
  },
  {
   "cell_type": "markdown",
   "metadata": {},
   "source": [
    "## Aplicando algoritmos"
   ]
  },
  {
   "cell_type": "markdown",
   "metadata": {},
   "source": [
    "### Gerando pontos iniciais"
   ]
  },
  {
   "cell_type": "code",
   "execution_count": 53,
   "metadata": {},
   "outputs": [],
   "source": [
    "def prod(sample):\n",
    "    out = 1\n",
    "    for i in range(0, 5):\n",
    "        out = out * sample[i] * (1 - sample[i])\n",
    "    return out\n",
    "\n",
    "def gen_sample():\n",
    "    sample = []\n",
    "    for i in range(0, 5):\n",
    "        sample.append(random.uniform(0, 1))\n",
    "    while prod(sample) < 0:\n",
    "        sample = []\n",
    "        for i in range(0, 5):\n",
    "            sample.append(random.uniform(0, 1))\n",
    "    return sample"
   ]
  },
  {
   "cell_type": "code",
   "execution_count": 54,
   "metadata": {},
   "outputs": [
    {
     "name": "stdout",
     "output_type": "stream",
     "text": [
      "[0.6647857108888462, 0.43578779983289906, 0.9663186475904119, 0.5896692128832322, 0.10809501121123999]\n",
      "[0.3890720991724027, 0.36031274555219395, 0.6381513057074889, 0.8949809863480933, 0.41573748145624057]\n",
      "[0.5575596586545494, 0.5406646318434895, 0.9704809113933898, 0.07177271857512324, 0.9520645900920222]\n",
      "[0.14291209348586642, 0.6446680366163794, 0.46527047444939174, 0.6767660272854025, 0.6581920438611351]\n",
      "[0.08624095916861008, 0.2948444274866513, 0.4842833773408246, 0.16129250727186517, 0.057275241527367404]\n"
     ]
    }
   ],
   "source": [
    "initial_points = []\n",
    "\n",
    "for i in range(0, 5):\n",
    "    initial_points.append(gen_sample())\n",
    "\n",
    "for initial_point in initial_points:\n",
    "    print(initial_point)"
   ]
  },
  {
   "cell_type": "markdown",
   "metadata": {},
   "source": [
    "### Método do Gradiente"
   ]
  },
  {
   "cell_type": "code",
   "execution_count": 55,
   "metadata": {},
   "outputs": [
    {
     "name": "stdout",
     "output_type": "stream",
     "text": [
      "Ponto inicial 0.\n",
      "x0 = [0.6647857108888462, 0.43578779983289906, 0.9663186475904119, 0.5896692128832322, 0.10809501121123999]\n",
      "Armijo calls:100\n",
      "x: [0.65801911 0.43819203 1.10694587 0.58626053 0.1405639 ]\n",
      "f(x): nan\n",
      "\n",
      "Ponto inicial 1.\n",
      "x0 = [0.3890720991724027, 0.36031274555219395, 0.6381513057074889, 0.8949809863480933, 0.41573748145624057]\n",
      "Armijo calls:100\n",
      "x: [0.40313098 0.37846475 0.62022568 1.22593439 0.42622865]\n",
      "f(x): nan\n",
      "\n",
      "Ponto inicial 2.\n",
      "x0 = [0.5575596586545494, 0.5406646318434895, 0.9704809113933898, 0.07177271857512324, 0.9520645900920222]\n",
      "Armijo calls:100\n",
      "x: [0.5577235  0.5407796  0.98625178 0.06710266 0.95962969]\n",
      "f(x): 0.0014192659718432468\n",
      "\n",
      "Ponto inicial 3.\n",
      "x0 = [0.14291209348586642, 0.6446680366163794, 0.46527047444939174, 0.6767660272854025, 0.6581920438611351]\n",
      "Armijo calls:100\n",
      "x: [-0.10508882  0.65327124  0.46338208  0.68782417  0.66778729]\n",
      "f(x): nan\n",
      "\n",
      "Ponto inicial 4.\n",
      "x0 = [0.08624095916861008, 0.2948444274866513, 0.4842833773408246, 0.16129250727186517, 0.057275241527367404]\n",
      "Armijo calls:100\n",
      "x: [0.06679037 0.29159965 0.48407737 0.15287295 0.01356597]\n",
      "f(x): 0.002360628180881333\n",
      "\n"
     ]
    }
   ],
   "source": [
    "k = 100\n",
    "\n",
    "for i in range(0, 5):\n",
    "    print(f\"Ponto inicial {i}.\")\n",
    "    x0 = initial_points[i]\n",
    "    print(f\"x0 = {x0}\")\n",
    "    x = Gradiente(f, gradient_f, x0, k)\n",
    "\n",
    "    print(f\"x: {x}\")\n",
    "    print(f\"f(x): {obj_fn(x)}\")\n",
    "    print(\"\")"
   ]
  },
  {
   "cell_type": "markdown",
   "metadata": {},
   "source": [
    "### Método de Newton"
   ]
  },
  {
   "cell_type": "code",
   "execution_count": 56,
   "metadata": {},
   "outputs": [
    {
     "name": "stdout",
     "output_type": "stream",
     "text": [
      "Ponto inicial 0.\n",
      "x0 = [0.6647857108888462, 0.43578779983289906, 0.9663186475904119, 0.5896692128832322, 0.10809501121123999]\n",
      "x: [9.85888300e-01 6.65773225e-02 9.99973891e-01 9.58820427e-01\n",
      " 5.45921148e-04]\n",
      "f(x): 6.973361347196202e-07\n",
      "\n",
      "Ponto inicial 1.\n",
      "x0 = [0.3890720991724027, 0.36031274555219395, 0.6381513057074889, 0.8949809863480933, 0.41573748145624057]\n",
      "x: [ 0.0740431  -0.01407481  1.0096961   1.18154225  0.1662461 ]\n",
      "f(x): nan\n",
      "\n",
      "Ponto inicial 2.\n",
      "x0 = [0.5575596586545494, 0.5406646318434895, 0.9704809113933898, 0.07177271857512324, 0.9520645900920222]\n",
      "x: [0.85286227 0.79303884 0.999199   0.00216599 0.99863998]\n",
      "f(x): 6.956177426812945e-06\n",
      "\n",
      "Ponto inicial 3.\n",
      "x0 = [0.14291209348586642, 0.6446680366163794, 0.46527047444939174, 0.6767660272854025, 0.6581920438611351]\n",
      "x: [-0.01299178  0.99660101  0.1099484   1.00340922  0.99979733]\n",
      "f(x): 1.7389725341331382e-06\n",
      "\n",
      "Ponto inicial 4.\n",
      "x0 = [0.08624095916861008, 0.2948444274866513, 0.4842833773408246, 0.16129250727186517, 0.057275241527367404]\n",
      "x: [0.00165418 0.01348819 0.29885652 0.00395122 0.00101341]\n",
      "f(x): 4.283248000893422e-06\n",
      "\n"
     ]
    }
   ],
   "source": [
    "k = 100\n",
    "\n",
    "for i in range(0, 5):\n",
    "    print(f\"Ponto inicial {i}.\")\n",
    "    x0 = initial_points[i]\n",
    "    print(f\"x0 = {x0}\")\n",
    "    x = Newton_ND(f, gradient_f, hessian_f, x0, k)\n",
    "\n",
    "    print(f\"x: {x}\")\n",
    "    print(f\"f(x): {obj_fn(x)}\")\n",
    "    print(\"\")"
   ]
  },
  {
   "cell_type": "markdown",
   "metadata": {},
   "source": [
    "### Método Quase-Newton (BFGS)"
   ]
  },
  {
   "cell_type": "code",
   "execution_count": 57,
   "metadata": {},
   "outputs": [
    {
     "name": "stdout",
     "output_type": "stream",
     "text": [
      "Ponto inicial 0.\n",
      "x0 = [0.6647857108888462, 0.43578779983289906, 0.9663186475904119, 0.5896692128832322, 0.10809501121123999]\n",
      "Else.\n",
      "Matrix Hf is singular.\n",
      "x: [-1.84422181  0.97753663  3.57815889  0.1775309  -0.16249462]\n",
      "f(x): nan\n",
      "\n",
      "Ponto inicial 1.\n",
      "x0 = [0.3890720991724027, 0.36031274555219395, 0.6381513057074889, 0.8949809863480933, 0.41573748145624057]\n",
      "Else.\n",
      "Matrix Hf is singular.\n",
      "x: [ 1.34425235 -2.34476451  2.82792135  1.1371269  -0.07329348]\n",
      "f(x): nan\n",
      "\n",
      "Ponto inicial 2.\n",
      "x0 = [0.5575596586545494, 0.5406646318434895, 0.9704809113933898, 0.07177271857512324, 0.9520645900920222]\n",
      "Else.\n",
      "Matrix Hf is singular.\n",
      "x: [ 0.0828285   0.20575238  5.34334965 -0.3024902  -2.18302872]\n",
      "f(x): nan\n",
      "\n",
      "Ponto inicial 3.\n",
      "x0 = [0.14291209348586642, 0.6446680366163794, 0.46527047444939174, 0.6767660272854025, 0.6581920438611351]\n",
      "Else.\n",
      "Matrix Hf is singular.\n",
      "x: [-1.67291788  2.00177339  0.40136827  0.32953809  1.68086501]\n",
      "f(x): nan\n",
      "\n",
      "Ponto inicial 4.\n",
      "x0 = [0.08624095916861008, 0.2948444274866513, 0.4842833773408246, 0.16129250727186517, 0.057275241527367404]\n",
      "Else.\n",
      "Matrix Hf is singular.\n",
      "x: [ 0.00145062  0.28445428  0.48362788  0.1335113  -0.00777027]\n",
      "f(x): nan\n",
      "\n"
     ]
    }
   ],
   "source": [
    "k = 100\n",
    "dimensions = 5\n",
    "\n",
    "for i in range(0, 5):\n",
    "    print(f\"Ponto inicial {i}.\")\n",
    "    x0 = initial_points[i]\n",
    "    print(f\"x0 = {x0}\")\n",
    "    x = BFGS(f, gradient_f, x0, dimensions, k)\n",
    "\n",
    "    print(f\"x: {x}\")\n",
    "    print(f\"f(x): {obj_fn(x)}\")\n",
    "    print(\"\")"
   ]
  },
  {
   "cell_type": "markdown",
   "metadata": {},
   "source": [
    "# "
   ]
  }
 ],
 "metadata": {
  "kernelspec": {
   "display_name": "work_env_kernel",
   "language": "python",
   "name": "work_env_kernel"
  },
  "language_info": {
   "codemirror_mode": {
    "name": "ipython",
    "version": 3
   },
   "file_extension": ".py",
   "mimetype": "text/x-python",
   "name": "python",
   "nbconvert_exporter": "python",
   "pygments_lexer": "ipython3",
   "version": "3.12.0"
  }
 },
 "nbformat": 4,
 "nbformat_minor": 2
}
