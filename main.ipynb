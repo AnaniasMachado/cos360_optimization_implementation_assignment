{
 "cells": [
  {
   "cell_type": "markdown",
   "metadata": {},
   "source": [
    "# Main\n",
    "\n",
    "Objetivo: Utilizar os algoritmos de otimização implementados para encontrar o(s) ponto(s) de mínimo da função objetivo $$f(x) = \\sqrt{\\ln{(\\prod_{i=1}^{5}x_i(1-x_i))+1}},$$ onde x = (x_1, x_2, x_3, x_4, x_5)."
   ]
  },
  {
   "cell_type": "markdown",
   "metadata": {},
   "source": [
    "## Bibliotecas"
   ]
  },
  {
   "cell_type": "code",
   "execution_count": 31,
   "metadata": {},
   "outputs": [],
   "source": [
    "import random\n",
    "import numpy as np\n",
    "\n",
    "from algorithms import Gradiente, Newton_1D, Newton_ND, BFGS\n",
    "\n",
    "from obj_test_util3 import f, gradient_f, hessian_f\n",
    "from objective_function_util import f as obj_fn"
   ]
  },
  {
   "cell_type": "markdown",
   "metadata": {},
   "source": [
    "## Aplicando algoritmos"
   ]
  },
  {
   "cell_type": "markdown",
   "metadata": {},
   "source": [
    "### Gerando pontos iniciais"
   ]
  },
  {
   "cell_type": "code",
   "execution_count": 32,
   "metadata": {},
   "outputs": [],
   "source": [
    "def prod(sample):\n",
    "    out = 1\n",
    "    for i in range(0, 5):\n",
    "        out = out * sample[i] * (1 - sample[i])\n",
    "    return out\n",
    "\n",
    "def gen_sample():\n",
    "    sample = []\n",
    "    for i in range(0, 5):\n",
    "        sample.append(random.uniform(0, 1))\n",
    "    while prod(sample) < 0:\n",
    "        sample = []\n",
    "        for i in range(0, 5):\n",
    "            sample.append(random.uniform(0, 1))\n",
    "    return sample"
   ]
  },
  {
   "cell_type": "code",
   "execution_count": 33,
   "metadata": {},
   "outputs": [
    {
     "name": "stdout",
     "output_type": "stream",
     "text": [
      "[0.046887020719544314, 0.74023550861543, 0.22803397637921496, 0.1975891811593249, 0.9994003867817834]\n",
      "[0.5897813855475191, 0.16034685627530654, 0.4326642281080816, 0.8951950188980211, 0.6816900817378484]\n",
      "[0.7920567965597973, 0.8562498372749033, 0.016252069202081332, 0.9968404871835331, 0.8478874201340887]\n",
      "[0.7272677311645062, 0.10960603349284681, 0.5012695013460766, 0.487883707827907, 0.2552521363614404]\n",
      "[0.6410460395459693, 0.6492439336188803, 0.7811564133949825, 0.639574957872674, 0.989313024269321]\n"
     ]
    }
   ],
   "source": [
    "initial_points = []\n",
    "\n",
    "for i in range(0, 5):\n",
    "    initial_points.append(gen_sample())\n",
    "\n",
    "for initial_point in initial_points:\n",
    "    print(initial_point)"
   ]
  },
  {
   "cell_type": "markdown",
   "metadata": {},
   "source": [
    "### Método do Gradiente"
   ]
  },
  {
   "cell_type": "code",
   "execution_count": 34,
   "metadata": {},
   "outputs": [
    {
     "name": "stdout",
     "output_type": "stream",
     "text": [
      "Ponto inicial 0.\n",
      "x0 = [0.046887020719544314, 0.74023550861543, 0.22803397637921496, 0.1975891811593249, 0.9994003867817834]\n",
      "Armijo calls:100\n",
      "x: [0.05264629 0.73948221 0.22896492 0.19873745 1.02492245]\n",
      "f(x): nan\n",
      "\n",
      "Ponto inicial 1.\n",
      "x0 = [0.5897813855475191, 0.16034685627530654, 0.4326642281080816, 0.8951950188980211, 0.6816900817378484]\n",
      "Armijo calls:100\n",
      "x: [0.59401976 0.12838352 0.42953441 1.03115174 0.69134232]\n",
      "f(x): nan\n",
      "\n",
      "Ponto inicial 2.\n",
      "x0 = [0.7920567965597973, 0.8562498372749033, 0.016252069202081332, 0.9968404871835331, 0.8478874201340887]\n",
      "Armijo calls:100\n",
      "x: [0.79207323 0.85627666 0.01596928 1.00095305 0.84791241]\n",
      "f(x): nan\n",
      "\n",
      "Ponto inicial 3.\n",
      "x0 = [0.7272677311645062, 0.10960603349284681, 0.5012695013460766, 0.487883707827907, 0.2552521363614404]\n",
      "Armijo calls:100\n",
      "x: [ 0.73032252 -0.10770057  0.50128305  0.48775429  0.25182078]\n",
      "f(x): nan\n",
      "\n",
      "Ponto inicial 4.\n",
      "x0 = [0.6410460395459693, 0.6492439336188803, 0.7811564133949825, 0.639574957872674, 0.989313024269321]\n",
      "Armijo calls:100\n",
      "x: [0.60742429 0.61342708 0.70155012 0.60634275 1.27229826]\n",
      "f(x): nan\n",
      "\n"
     ]
    }
   ],
   "source": [
    "k = 100\n",
    "\n",
    "for i in range(0, 5):\n",
    "    print(f\"Ponto inicial {i}.\")\n",
    "    x0 = initial_points[i]\n",
    "    print(f\"x0 = {x0}\")\n",
    "    x = Gradiente(f, gradient_f, x0, k)\n",
    "\n",
    "    print(f\"x: {x}\")\n",
    "    print(f\"f(x): {obj_fn(x)}\")\n",
    "    print(\"\")"
   ]
  },
  {
   "cell_type": "markdown",
   "metadata": {},
   "source": [
    "### Método de Newton"
   ]
  },
  {
   "cell_type": "code",
   "execution_count": 35,
   "metadata": {},
   "outputs": [
    {
     "name": "stdout",
     "output_type": "stream",
     "text": [
      "Ponto inicial 0.\n",
      "x0 = [0.046887020719544314, 0.74023550861543, 0.22803397637921496, 0.1975891811593249, 0.9994003867817834]\n",
      "x: [0.0018633  0.98136042 0.01446432 0.01130393 0.99997796]\n",
      "f(x): 3.4562985613175795e-07\n",
      "\n",
      "Ponto inicial 1.\n",
      "x0 = [0.5897813855475191, 0.16034685627530654, 0.4326642281080816, 0.8951950188980211, 0.6816900817378484]\n",
      "x: [ 9.60568709e-01 -6.11084309e-04  6.03800225e-02  1.00112598e+00\n",
      "  9.90418119e-01]\n",
      "f(x): 3.749174798549061e-06\n",
      "\n",
      "Ponto inicial 2.\n",
      "x0 = [0.7920567965597973, 0.8562498372749033, 0.016252069202081332, 0.9968404871835331, 0.8478874201340887]\n",
      "x: [0.97234227 0.98377574 0.00145973 0.99972133 0.98250118]\n",
      "f(x): 1.731101957732049e-06\n",
      "\n",
      "Ponto inicial 3.\n",
      "x0 = [0.7272677311645062, 0.10960603349284681, 0.5012695013460766, 0.487883707827907, 0.2552521363614404]\n",
      "x: [ 1.03368237 -0.08452674  0.50387249  0.46306925 -0.05258355]\n",
      "f(x): nan\n",
      "\n",
      "Ponto inicial 4.\n",
      "x0 = [0.6410460395459693, 0.6492439336188803, 0.7811564133949825, 0.639574957872674, 0.989313024269321]\n",
      "x: [0.77254427 0.78574255 0.94088534 0.77013483 1.00087179]\n",
      "f(x): nan\n",
      "\n"
     ]
    }
   ],
   "source": [
    "k = 100\n",
    "\n",
    "for i in range(0, 5):\n",
    "    print(f\"Ponto inicial {i}.\")\n",
    "    x0 = initial_points[i]\n",
    "    print(f\"x0 = {x0}\")\n",
    "    x = Newton_ND(f, gradient_f, hessian_f, x0, k)\n",
    "\n",
    "    print(f\"x: {x}\")\n",
    "    print(f\"f(x): {obj_fn(x)}\")\n",
    "    print(\"\")"
   ]
  },
  {
   "cell_type": "markdown",
   "metadata": {},
   "source": [
    "### Método Quase-Newton (BFGS)"
   ]
  },
  {
   "cell_type": "code",
   "execution_count": 36,
   "metadata": {},
   "outputs": [
    {
     "name": "stdout",
     "output_type": "stream",
     "text": [
      "Ponto inicial 0.\n",
      "x0 = [0.046887020719544314, 0.74023550861543, 0.22803397637921496, 0.1975891811593249, 0.9994003867817834]\n",
      "x: [-0.17165115  2.19087255 -0.34233003  1.6585853  -1.14902362]\n",
      "f(x): nan\n",
      "\n",
      "Ponto inicial 1.\n",
      "x0 = [0.5897813855475191, 0.16034685627530654, 0.4326642281080816, 0.8951950188980211, 0.6816900817378484]\n",
      "x: [ 0.74321373 -1.65448682  3.59657114 -0.10478393  0.18353468]\n",
      "f(x): nan\n",
      "\n",
      "Ponto inicial 2.\n",
      "x0 = [0.7920567965597973, 0.8562498372749033, 0.016252069202081332, 0.9968404871835331, 0.8478874201340887]\n",
      "x: [-4.09065376  1.84356763  0.90711916  0.99575239  3.84474975]\n",
      "f(x): nan\n",
      "\n",
      "Ponto inicial 3.\n",
      "x0 = [0.7272677311645062, 0.10960603349284681, 0.5012695013460766, 0.487883707827907, 0.2552521363614404]\n",
      "x: [ 1.1492784  -2.2807761  -0.1323999  -0.30937484  3.47375639]\n",
      "f(x): nan\n",
      "\n",
      "Ponto inicial 4.\n",
      "x0 = [0.6410460395459693, 0.6492439336188803, 0.7811564133949825, 0.639574957872674, 0.989313024269321]\n",
      "x: [-0.90959781  1.00905367 -0.72538645 -0.64661058  5.38458567]\n",
      "f(x): nan\n",
      "\n"
     ]
    }
   ],
   "source": [
    "k = 100\n",
    "dimensions = 5\n",
    "\n",
    "for i in range(0, 5):\n",
    "    print(f\"Ponto inicial {i}.\")\n",
    "    x0 = initial_points[i]\n",
    "    print(f\"x0 = {x0}\")\n",
    "    x = BFGS(f, gradient_f, x0, dimensions, k)\n",
    "\n",
    "    print(f\"x: {x}\")\n",
    "    print(f\"f(x): {obj_fn(x)}\")\n",
    "    print(\"\")"
   ]
  },
  {
   "cell_type": "markdown",
   "metadata": {},
   "source": [
    "# "
   ]
  }
 ],
 "metadata": {
  "kernelspec": {
   "display_name": "work_env_kernel",
   "language": "python",
   "name": "work_env_kernel"
  },
  "language_info": {
   "codemirror_mode": {
    "name": "ipython",
    "version": 3
   },
   "file_extension": ".py",
   "mimetype": "text/x-python",
   "name": "python",
   "nbconvert_exporter": "python",
   "pygments_lexer": "ipython3",
   "version": "3.12.0"
  }
 },
 "nbformat": 4,
 "nbformat_minor": 2
}
